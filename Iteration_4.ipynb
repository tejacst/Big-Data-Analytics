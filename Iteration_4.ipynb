{
 "cells": [
  {
   "cell_type": "code",
   "execution_count": 1,
   "metadata": {},
   "outputs": [],
   "source": [
    "import findspark\n",
    "findspark.init('/home/ubuntu/spark-2.1.1-bin-hadoop2.7')\n",
    "import pyspark\n",
    "from pyspark.sql import SparkSession\n",
    "spark = SparkSession.builder.appName('advertising').getOrCreate()"
   ]
  },
  {
   "cell_type": "code",
   "execution_count": 2,
   "metadata": {},
   "outputs": [],
   "source": [
    "advertising = spark.read.json('AdDataset.json')\n",
    "ad = spark.read.json('AdDataset_2.json')\n"
   ]
  },
  {
   "cell_type": "code",
   "execution_count": 3,
   "metadata": {},
   "outputs": [
    {
     "name": "stdout",
     "output_type": "stream",
     "text": [
      "+--------------------+-----------------+-----+--------------------+--------------------+------------------------+---+----+----------------+\n",
      "|            Ad_Topic|             City|Click|             Country|Daily Internet Usage|Daily Time Spent on Site| ID|Male|       Timestamp|\n",
      "+--------------------+-----------------+-----+--------------------+--------------------+------------------------+---+----+----------------+\n",
      "|Cloned 5thgenerat...|      Wrightburgh|    0|             Tunisia|              256.09|                   68.95|  1|   0|27-03-2016 00:53|\n",
      "|Monitored nationa...|        West Jodi|    0|               Nauru|              193.77|                   80.23|  2|   1|04-04-2016 01:39|\n",
      "|Organic bottom-li...|         Davidton|    0|          San Marino|               236.5|                   69.47|  3|   0|13-03-2016 20:35|\n",
      "|Triple-buffered r...|   West Terrifurt|    0|               Italy|              245.89|                   74.15|  4|   1|10-01-2016 02:31|\n",
      "|Robust logistical...|     South Manuel|    0|             Iceland|              225.58|                   68.37|  5|   0|03-06-2016 03:36|\n",
      "|Sharable client-d...|        Jamieberg|    0|              Norway|              226.74|                   59.99|  6|   1|19-05-2016 14:30|\n",
      "|Enhanced dedicate...|      Brandonstad|    0|             Myanmar|              208.36|                   88.91|  7|   0|28-01-2016 20:59|\n",
      "|Reactive local ch...| Port Jefferybury|    1|           Australia|              131.76|                    66.0|  8|   1|07-03-2016 01:40|\n",
      "|Configurable cohe...|       West Colin|    0|             Grenada|              221.51|                   74.53|  9|   1|18-04-2016 09:33|\n",
      "|Mandatory homogen...|       Ramirezton|    0|               Ghana|              183.82|                   69.88| 10|   1|11-07-2016 01:42|\n",
      "|Centralized neutr...|  West Brandonton|    1|               Qatar|              122.02|                   47.64| 11|   0|16-03-2016 20:19|\n",
      "|Team-oriented gri...|East Theresashire|    0|             Burundi|              230.87|                   83.07| 12|   1|08-05-2016 08:10|\n",
      "|Centralized conte...|   West Katiefurt|    1|               Egypt|              113.12|                   69.57| 13|   1|03-06-2016 01:14|\n",
      "|Synergistic fresh...|       North Tara|    0|Bosnia and Herzeg...|              214.23|                   79.52| 14|   0|20-04-2016 21:49|\n",
      "|Grass-roots coher...|     West William|    1|            Barbados|              143.56|                   42.95| 15|   0|24-03-2016 09:31|\n",
      "|Persistent demand...|   New Travistown|    1|               Spain|              140.64|                   63.45| 16|   1|09-03-2016 03:41|\n",
      "|Customizable mult...|   West Dylanberg|    1|Palestinian Terri...|              129.41|                   55.39| 17|   0|30-01-2016 19:20|\n",
      "|Intuitive dynamic...|      Pruittmouth|    0|         Afghanistan|              187.53|                   82.03| 18|   0|02-05-2016 07:00|\n",
      "|Grass-roots solut...|      Jessicastad| null|British Indian Oc...|              118.39|                    54.7| 19|   1|13-02-2016 07:53|\n",
      "|Advanced 24/7 pro...|       Millertown|    1|  Russian Federation|              135.51|                   74.58| 20|   1|27-02-2016 04:43|\n",
      "+--------------------+-----------------+-----+--------------------+--------------------+------------------------+---+----+----------------+\n",
      "only showing top 20 rows\n",
      "\n",
      "+---+-----------+---+\n",
      "|Age|Area Income| ID|\n",
      "+---+-----------+---+\n",
      "| 35|    61833.9|  1|\n",
      "| 31|   68441.85|  2|\n",
      "| 26|   59785.94|  3|\n",
      "| 29|   54806.18|  4|\n",
      "| 35|   73889.99|  5|\n",
      "| 23|   59761.56|  6|\n",
      "| 33|   53852.85|  7|\n",
      "| 48|   24593.33|  8|\n",
      "| 30|    68862.0|  9|\n",
      "| 20|   55642.32| 10|\n",
      "| 49|   45632.51| 11|\n",
      "| 37|   62491.01| 12|\n",
      "| 48|   51636.92| 13|\n",
      "| 24|   51739.63| 14|\n",
      "| 33|    30976.0| 15|\n",
      "| 23|   52182.23| 16|\n",
      "| 37|   23936.86| 17|\n",
      "| 41|   71511.08| 18|\n",
      "| 36|   31087.54| 19|\n",
      "| 40|   23821.72| 20|\n",
      "+---+-----------+---+\n",
      "only showing top 20 rows\n",
      "\n"
     ]
    },
    {
     "data": {
      "text/plain": [
       "['Age', 'Area Income', 'ID']"
      ]
     },
     "execution_count": 3,
     "metadata": {},
     "output_type": "execute_result"
    }
   ],
   "source": [
    "advertising.show()\n",
    "advertising.columns\n",
    "\n",
    "ad.show()\n",
    "ad.columns"
   ]
  },
  {
   "cell_type": "code",
   "execution_count": 4,
   "metadata": {},
   "outputs": [
    {
     "name": "stdout",
     "output_type": "stream",
     "text": [
      "+-------+------------------+------------------+------------------+\n",
      "|summary|               Age|       Area Income|                ID|\n",
      "+-------+------------------+------------------+------------------+\n",
      "|  count|              1638|              1638|              1638|\n",
      "|   mean|50.217948717948715|  51063.3769814653|             819.5|\n",
      "| stddev|19.228160858771865|12757.313650973787|472.99418601077963|\n",
      "|    min|                19|           13996.5|                 1|\n",
      "|    max|                80|           79484.8|              1638|\n",
      "+-------+------------------+------------------+------------------+\n",
      "\n"
     ]
    }
   ],
   "source": [
    "ad.describe().show()"
   ]
  },
  {
   "cell_type": "code",
   "execution_count": 5,
   "metadata": {},
   "outputs": [
    {
     "name": "stdout",
     "output_type": "stream",
     "text": [
      "root\n",
      " |-- Ad_Topic: string (nullable = true)\n",
      " |-- City: string (nullable = true)\n",
      " |-- Click: long (nullable = true)\n",
      " |-- Country: string (nullable = true)\n",
      " |-- Daily Internet Usage: double (nullable = true)\n",
      " |-- Daily Time Spent on Site: double (nullable = true)\n",
      " |-- ID: long (nullable = true)\n",
      " |-- Male: long (nullable = true)\n",
      " |-- Timestamp: string (nullable = true)\n",
      "\n"
     ]
    }
   ],
   "source": [
    "advertising.printSchema()"
   ]
  },
  {
   "cell_type": "code",
   "execution_count": 6,
   "metadata": {},
   "outputs": [
    {
     "data": {
      "text/plain": [
       "[Row(Click=0), Row(Click=None), Row(Click=1)]"
      ]
     },
     "execution_count": 6,
     "metadata": {},
     "output_type": "execute_result"
    }
   ],
   "source": [
    "advertising.select(\"Click\").distinct().collect()\n"
   ]
  },
  {
   "cell_type": "code",
   "execution_count": 7,
   "metadata": {},
   "outputs": [
    {
     "data": {
      "text/plain": [
       "12"
      ]
     },
     "execution_count": 7,
     "metadata": {},
     "output_type": "execute_result"
    }
   ],
   "source": [
    "advertising.filter(advertising.Click.isNull()).count()"
   ]
  },
  {
   "cell_type": "code",
   "execution_count": 8,
   "metadata": {},
   "outputs": [],
   "source": [
    "advertising = advertising.na.fill({'click':'1'})"
   ]
  },
  {
   "cell_type": "code",
   "execution_count": 9,
   "metadata": {},
   "outputs": [],
   "source": [
    "import seaborn as sns"
   ]
  },
  {
   "cell_type": "code",
   "execution_count": 10,
   "metadata": {},
   "outputs": [
    {
     "data": {
      "text/plain": [
       "<seaborn.axisgrid.FacetGrid at 0x7f77a41722e8>"
      ]
     },
     "execution_count": 10,
     "metadata": {},
     "output_type": "execute_result"
    },
    {
     "data": {
      "image/png": "[encoded data removed]",
      "text/plain": [
       "<Figure size 720x360 with 2 Axes>"
      ]
     },
     "metadata": {},
     "output_type": "display_data"
    }
   ],
   "source": [
    "sns.relplot(x=\"Daily Time Spent on Site\", y=\"Daily Internet Usage\", col=\"Click\", \n",
    "            data=advertising.toPandas())"
   ]
  },
  {
   "cell_type": "code",
   "execution_count": 11,
   "metadata": {},
   "outputs": [
    {
     "name": "stdout",
     "output_type": "stream",
     "text": [
      "+--------------------+-----------------+-----+--------------------+--------------------+------------------------+---+----+----------------+\n",
      "|            Ad_Topic|             City|Click|             Country|Daily Internet Usage|Daily Time Spent on Site| ID|Male|       Timestamp|\n",
      "+--------------------+-----------------+-----+--------------------+--------------------+------------------------+---+----+----------------+\n",
      "|Cloned 5thgenerat...|      Wrightburgh|    0|             Tunisia|              256.09|                   68.95|  1|   0|27-03-2016 00:53|\n",
      "|Monitored nationa...|        West Jodi|    0|               Nauru|              193.77|                   80.23|  2|   1|04-04-2016 01:39|\n",
      "|Organic bottom-li...|         Davidton|    0|          San Marino|               236.5|                   69.47|  3|   0|13-03-2016 20:35|\n",
      "|Triple-buffered r...|   West Terrifurt|    0|               Italy|              245.89|                   74.15|  4|   1|10-01-2016 02:31|\n",
      "|Robust logistical...|     South Manuel|    0|             Iceland|              225.58|                   68.37|  5|   0|03-06-2016 03:36|\n",
      "|Sharable client-d...|        Jamieberg|    0|              Norway|              226.74|                   59.99|  6|   1|19-05-2016 14:30|\n",
      "|Enhanced dedicate...|      Brandonstad|    0|             Myanmar|              208.36|                   88.91|  7|   0|28-01-2016 20:59|\n",
      "|Reactive local ch...| Port Jefferybury|    1|           Australia|              131.76|                    66.0|  8|   1|07-03-2016 01:40|\n",
      "|Configurable cohe...|       West Colin|    0|             Grenada|              221.51|                   74.53|  9|   1|18-04-2016 09:33|\n",
      "|Mandatory homogen...|       Ramirezton|    0|               Ghana|              183.82|                   69.88| 10|   1|11-07-2016 01:42|\n",
      "|Centralized neutr...|  West Brandonton|    1|               Qatar|              122.02|                   47.64| 11|   0|16-03-2016 20:19|\n",
      "|Team-oriented gri...|East Theresashire|    0|             Burundi|              230.87|                   83.07| 12|   1|08-05-2016 08:10|\n",
      "|Centralized conte...|   West Katiefurt|    1|               Egypt|              113.12|                   69.57| 13|   1|03-06-2016 01:14|\n",
      "|Synergistic fresh...|       North Tara|    0|Bosnia and Herzeg...|              214.23|                   79.52| 14|   0|20-04-2016 21:49|\n",
      "|Grass-roots coher...|     West William|    1|            Barbados|              143.56|                   42.95| 15|   0|24-03-2016 09:31|\n",
      "|Persistent demand...|   New Travistown|    1|               Spain|              140.64|                   63.45| 16|   1|09-03-2016 03:41|\n",
      "|Customizable mult...|   West Dylanberg|    1|Palestinian Terri...|              129.41|                   55.39| 17|   0|30-01-2016 19:20|\n",
      "|Intuitive dynamic...|      Pruittmouth|    0|         Afghanistan|              187.53|                   82.03| 18|   0|02-05-2016 07:00|\n",
      "|Grass-roots solut...|      Jessicastad|    1|British Indian Oc...|              118.39|                    54.7| 19|   1|13-02-2016 07:53|\n",
      "|Advanced 24/7 pro...|       Millertown|    1|  Russian Federation|              135.51|                   74.58| 20|   1|27-02-2016 04:43|\n",
      "+--------------------+-----------------+-----+--------------------+--------------------+------------------------+---+----+----------------+\n",
      "only showing top 20 rows\n",
      "\n"
     ]
    }
   ],
   "source": [
    "advertising.show()"
   ]
  },
  {
   "cell_type": "code",
   "execution_count": 12,
   "metadata": {},
   "outputs": [],
   "source": [
    "adNew = advertising.join(ad, on=['ID'], how='inner')"
   ]
  },
  {
   "cell_type": "code",
   "execution_count": 13,
   "metadata": {},
   "outputs": [
    {
     "data": {
      "text/plain": [
       "<seaborn.axisgrid.JointGrid at 0x7f776053d6d8>"
      ]
     },
     "execution_count": 13,
     "metadata": {},
     "output_type": "execute_result"
    },
    {
     "data": {
      "image/png": "[encoded data removed]",
      "text/plain": [
       "<Figure size 432x432 with 3 Axes>"
      ]
     },
     "metadata": {},
     "output_type": "display_data"
    }
   ],
   "source": [
    "sns.jointplot(x=\"Click\",y=\"Area Income\",data=adNew.toPandas(), color = \"blue\", kind='kde')\n"
   ]
  },
  {
   "cell_type": "code",
   "execution_count": 14,
   "metadata": {},
   "outputs": [
    {
     "name": "stdout",
     "output_type": "stream",
     "text": [
      "+---+--------------------+-----------------+-----+--------------------+--------------------+------------------------+----+----------------+---+-----------+\n",
      "| ID|            Ad_Topic|             City|Click|             Country|Daily Internet Usage|Daily Time Spent on Site|Male|       Timestamp|Age|Area Income|\n",
      "+---+--------------------+-----------------+-----+--------------------+--------------------+------------------------+----+----------------+---+-----------+\n",
      "|  1|Cloned 5thgenerat...|      Wrightburgh|    0|             Tunisia|              256.09|                   68.95|   0|27-03-2016 00:53| 35|    61833.9|\n",
      "|  2|Monitored nationa...|        West Jodi|    0|               Nauru|              193.77|                   80.23|   1|04-04-2016 01:39| 31|   68441.85|\n",
      "|  3|Organic bottom-li...|         Davidton|    0|          San Marino|               236.5|                   69.47|   0|13-03-2016 20:35| 26|   59785.94|\n",
      "|  4|Triple-buffered r...|   West Terrifurt|    0|               Italy|              245.89|                   74.15|   1|10-01-2016 02:31| 29|   54806.18|\n",
      "|  5|Robust logistical...|     South Manuel|    0|             Iceland|              225.58|                   68.37|   0|03-06-2016 03:36| 35|   73889.99|\n",
      "|  6|Sharable client-d...|        Jamieberg|    0|              Norway|              226.74|                   59.99|   1|19-05-2016 14:30| 23|   59761.56|\n",
      "|  7|Enhanced dedicate...|      Brandonstad|    0|             Myanmar|              208.36|                   88.91|   0|28-01-2016 20:59| 33|   53852.85|\n",
      "|  8|Reactive local ch...| Port Jefferybury|    1|           Australia|              131.76|                    66.0|   1|07-03-2016 01:40| 48|   24593.33|\n",
      "|  9|Configurable cohe...|       West Colin|    0|             Grenada|              221.51|                   74.53|   1|18-04-2016 09:33| 30|    68862.0|\n",
      "| 10|Mandatory homogen...|       Ramirezton|    0|               Ghana|              183.82|                   69.88|   1|11-07-2016 01:42| 20|   55642.32|\n",
      "| 11|Centralized neutr...|  West Brandonton|    1|               Qatar|              122.02|                   47.64|   0|16-03-2016 20:19| 49|   45632.51|\n",
      "| 12|Team-oriented gri...|East Theresashire|    0|             Burundi|              230.87|                   83.07|   1|08-05-2016 08:10| 37|   62491.01|\n",
      "| 13|Centralized conte...|   West Katiefurt|    1|               Egypt|              113.12|                   69.57|   1|03-06-2016 01:14| 48|   51636.92|\n",
      "| 14|Synergistic fresh...|       North Tara|    0|Bosnia and Herzeg...|              214.23|                   79.52|   0|20-04-2016 21:49| 24|   51739.63|\n",
      "| 15|Grass-roots coher...|     West William|    1|            Barbados|              143.56|                   42.95|   0|24-03-2016 09:31| 33|    30976.0|\n",
      "| 16|Persistent demand...|   New Travistown|    1|               Spain|              140.64|                   63.45|   1|09-03-2016 03:41| 23|   52182.23|\n",
      "| 17|Customizable mult...|   West Dylanberg|    1|Palestinian Terri...|              129.41|                   55.39|   0|30-01-2016 19:20| 37|   23936.86|\n",
      "| 18|Intuitive dynamic...|      Pruittmouth|    0|         Afghanistan|              187.53|                   82.03|   0|02-05-2016 07:00| 41|   71511.08|\n",
      "| 19|Grass-roots solut...|      Jessicastad|    1|British Indian Oc...|              118.39|                    54.7|   1|13-02-2016 07:53| 36|   31087.54|\n",
      "| 20|Advanced 24/7 pro...|       Millertown|    1|  Russian Federation|              135.51|                   74.58|   1|27-02-2016 04:43| 40|   23821.72|\n",
      "+---+--------------------+-----------------+-----+--------------------+--------------------+------------------------+----+----------------+---+-----------+\n",
      "only showing top 20 rows\n",
      "\n"
     ]
    }
   ],
   "source": [
    "adNew.show()"
   ]
  },
  {
   "cell_type": "code",
   "execution_count": 15,
   "metadata": {},
   "outputs": [],
   "source": [
    "adNew.createOrReplaceTempView('data')\n",
    "adNew = spark.sql(\"SELECT * FROM data\")"
   ]
  },
  {
   "cell_type": "code",
   "execution_count": 16,
   "metadata": {},
   "outputs": [],
   "source": [
    "adNew = spark.sql(\"SELECT * FROM data WHERE Age < 60\")"
   ]
  },
  {
   "cell_type": "code",
   "execution_count": 17,
   "metadata": {},
   "outputs": [
    {
     "name": "stdout",
     "output_type": "stream",
     "text": [
      "+---+--------------------+-----------------+-----+--------------------+--------------------+------------------------+----+----------------+---+-----------+\n",
      "| ID|            Ad_Topic|             City|Click|             Country|Daily Internet Usage|Daily Time Spent on Site|Male|       Timestamp|Age|Area Income|\n",
      "+---+--------------------+-----------------+-----+--------------------+--------------------+------------------------+----+----------------+---+-----------+\n",
      "|  1|Cloned 5thgenerat...|      Wrightburgh|    0|             Tunisia|              256.09|                   68.95|   0|27-03-2016 00:53| 35|    61833.9|\n",
      "|  2|Monitored nationa...|        West Jodi|    0|               Nauru|              193.77|                   80.23|   1|04-04-2016 01:39| 31|   68441.85|\n",
      "|  3|Organic bottom-li...|         Davidton|    0|          San Marino|               236.5|                   69.47|   0|13-03-2016 20:35| 26|   59785.94|\n",
      "|  4|Triple-buffered r...|   West Terrifurt|    0|               Italy|              245.89|                   74.15|   1|10-01-2016 02:31| 29|   54806.18|\n",
      "|  5|Robust logistical...|     South Manuel|    0|             Iceland|              225.58|                   68.37|   0|03-06-2016 03:36| 35|   73889.99|\n",
      "|  6|Sharable client-d...|        Jamieberg|    0|              Norway|              226.74|                   59.99|   1|19-05-2016 14:30| 23|   59761.56|\n",
      "|  7|Enhanced dedicate...|      Brandonstad|    0|             Myanmar|              208.36|                   88.91|   0|28-01-2016 20:59| 33|   53852.85|\n",
      "|  8|Reactive local ch...| Port Jefferybury|    1|           Australia|              131.76|                    66.0|   1|07-03-2016 01:40| 48|   24593.33|\n",
      "|  9|Configurable cohe...|       West Colin|    0|             Grenada|              221.51|                   74.53|   1|18-04-2016 09:33| 30|    68862.0|\n",
      "| 10|Mandatory homogen...|       Ramirezton|    0|               Ghana|              183.82|                   69.88|   1|11-07-2016 01:42| 20|   55642.32|\n",
      "| 11|Centralized neutr...|  West Brandonton|    1|               Qatar|              122.02|                   47.64|   0|16-03-2016 20:19| 49|   45632.51|\n",
      "| 12|Team-oriented gri...|East Theresashire|    0|             Burundi|              230.87|                   83.07|   1|08-05-2016 08:10| 37|   62491.01|\n",
      "| 13|Centralized conte...|   West Katiefurt|    1|               Egypt|              113.12|                   69.57|   1|03-06-2016 01:14| 48|   51636.92|\n",
      "| 14|Synergistic fresh...|       North Tara|    0|Bosnia and Herzeg...|              214.23|                   79.52|   0|20-04-2016 21:49| 24|   51739.63|\n",
      "| 15|Grass-roots coher...|     West William|    1|            Barbados|              143.56|                   42.95|   0|24-03-2016 09:31| 33|    30976.0|\n",
      "| 16|Persistent demand...|   New Travistown|    1|               Spain|              140.64|                   63.45|   1|09-03-2016 03:41| 23|   52182.23|\n",
      "| 17|Customizable mult...|   West Dylanberg|    1|Palestinian Terri...|              129.41|                   55.39|   0|30-01-2016 19:20| 37|   23936.86|\n",
      "| 18|Intuitive dynamic...|      Pruittmouth|    0|         Afghanistan|              187.53|                   82.03|   0|02-05-2016 07:00| 41|   71511.08|\n",
      "| 19|Grass-roots solut...|      Jessicastad|    1|British Indian Oc...|              118.39|                    54.7|   1|13-02-2016 07:53| 36|   31087.54|\n",
      "| 20|Advanced 24/7 pro...|       Millertown|    1|  Russian Federation|              135.51|                   74.58|   1|27-02-2016 04:43| 40|   23821.72|\n",
      "+---+--------------------+-----------------+-----+--------------------+--------------------+------------------------+----+----------------+---+-----------+\n",
      "only showing top 20 rows\n",
      "\n"
     ]
    }
   ],
   "source": [
    "adNew.show()"
   ]
  },
  {
   "cell_type": "code",
   "execution_count": 18,
   "metadata": {},
   "outputs": [],
   "source": [
    "adNew = adNew.drop('City','Country')"
   ]
  },
  {
   "cell_type": "code",
   "execution_count": 19,
   "metadata": {
    "scrolled": true
   },
   "outputs": [
    {
     "name": "stdout",
     "output_type": "stream",
     "text": [
      "+---+--------------------+-----+--------------------+------------------------+----+----------------+---+-----------+\n",
      "| ID|            Ad_Topic|Click|Daily Internet Usage|Daily Time Spent on Site|Male|       Timestamp|Age|Area Income|\n",
      "+---+--------------------+-----+--------------------+------------------------+----+----------------+---+-----------+\n",
      "|  1|Cloned 5thgenerat...|    0|              256.09|                   68.95|   0|27-03-2016 00:53| 35|    61833.9|\n",
      "|  2|Monitored nationa...|    0|              193.77|                   80.23|   1|04-04-2016 01:39| 31|   68441.85|\n",
      "|  3|Organic bottom-li...|    0|               236.5|                   69.47|   0|13-03-2016 20:35| 26|   59785.94|\n",
      "|  4|Triple-buffered r...|    0|              245.89|                   74.15|   1|10-01-2016 02:31| 29|   54806.18|\n",
      "|  5|Robust logistical...|    0|              225.58|                   68.37|   0|03-06-2016 03:36| 35|   73889.99|\n",
      "|  6|Sharable client-d...|    0|              226.74|                   59.99|   1|19-05-2016 14:30| 23|   59761.56|\n",
      "|  7|Enhanced dedicate...|    0|              208.36|                   88.91|   0|28-01-2016 20:59| 33|   53852.85|\n",
      "|  8|Reactive local ch...|    1|              131.76|                    66.0|   1|07-03-2016 01:40| 48|   24593.33|\n",
      "|  9|Configurable cohe...|    0|              221.51|                   74.53|   1|18-04-2016 09:33| 30|    68862.0|\n",
      "| 10|Mandatory homogen...|    0|              183.82|                   69.88|   1|11-07-2016 01:42| 20|   55642.32|\n",
      "| 11|Centralized neutr...|    1|              122.02|                   47.64|   0|16-03-2016 20:19| 49|   45632.51|\n",
      "| 12|Team-oriented gri...|    0|              230.87|                   83.07|   1|08-05-2016 08:10| 37|   62491.01|\n",
      "| 13|Centralized conte...|    1|              113.12|                   69.57|   1|03-06-2016 01:14| 48|   51636.92|\n",
      "| 14|Synergistic fresh...|    0|              214.23|                   79.52|   0|20-04-2016 21:49| 24|   51739.63|\n",
      "| 15|Grass-roots coher...|    1|              143.56|                   42.95|   0|24-03-2016 09:31| 33|    30976.0|\n",
      "| 16|Persistent demand...|    1|              140.64|                   63.45|   1|09-03-2016 03:41| 23|   52182.23|\n",
      "| 17|Customizable mult...|    1|              129.41|                   55.39|   0|30-01-2016 19:20| 37|   23936.86|\n",
      "| 18|Intuitive dynamic...|    0|              187.53|                   82.03|   0|02-05-2016 07:00| 41|   71511.08|\n",
      "| 19|Grass-roots solut...|    1|              118.39|                    54.7|   1|13-02-2016 07:53| 36|   31087.54|\n",
      "| 20|Advanced 24/7 pro...|    1|              135.51|                   74.58|   1|27-02-2016 04:43| 40|   23821.72|\n",
      "+---+--------------------+-----+--------------------+------------------------+----+----------------+---+-----------+\n",
      "only showing top 20 rows\n",
      "\n"
     ]
    }
   ],
   "source": [
    "\n",
    "adNew.show()"
   ]
  },
  {
   "cell_type": "code",
   "execution_count": 20,
   "metadata": {},
   "outputs": [
    {
     "name": "stdout",
     "output_type": "stream",
     "text": [
      "root\n",
      " |-- Ad_Topic: string (nullable = true)\n",
      " |-- City: string (nullable = true)\n",
      " |-- Click: long (nullable = true)\n",
      " |-- Country: string (nullable = true)\n",
      " |-- Daily Internet Usage: double (nullable = true)\n",
      " |-- Daily Time Spent on Site: double (nullable = true)\n",
      " |-- ID: long (nullable = true)\n",
      " |-- Male: long (nullable = true)\n",
      " |-- Timestamp: string (nullable = true)\n",
      "\n"
     ]
    }
   ],
   "source": [
    "advertising.printSchema()"
   ]
  },
  {
   "cell_type": "code",
   "execution_count": 21,
   "metadata": {},
   "outputs": [],
   "source": [
    "from pyspark.ml.classification import LogisticRegression"
   ]
  },
  {
   "cell_type": "code",
   "execution_count": 22,
   "metadata": {},
   "outputs": [],
   "source": [
    "from pyspark.ml.feature import (VectorAssembler,VectorIndexer,\n",
    "                                OneHotEncoder,StringIndexer)"
   ]
  },
  {
   "cell_type": "code",
   "execution_count": 23,
   "metadata": {},
   "outputs": [
    {
     "name": "stdout",
     "output_type": "stream",
     "text": [
      "+---+--------------------+-----+--------------------+------------------------+----+----------------+---+-----------+-------+\n",
      "| ID|            Ad_Topic|Click|Daily Internet Usage|Daily Time Spent on Site|Male|       Timestamp|Age|Area Income|adTopic|\n",
      "+---+--------------------+-----+--------------------+------------------------+----+----------------+---+-----------+-------+\n",
      "|  1|Cloned 5thgenerat...|    0|              256.09|                   68.95|   0|27-03-2016 00:53| 35|    61833.9|    5.0|\n",
      "|  2|Monitored nationa...|    0|              193.77|                   80.23|   1|04-04-2016 01:39| 31|   68441.85|    8.0|\n",
      "|  3|Organic bottom-li...|    0|               236.5|                   69.47|   0|13-03-2016 20:35| 26|   59785.94|    6.0|\n",
      "|  4|Triple-buffered r...|    0|              245.89|                   74.15|   1|10-01-2016 02:31| 29|   54806.18|    7.0|\n",
      "|  5|Robust logistical...|    0|              225.58|                   68.37|   0|03-06-2016 03:36| 35|   73889.99|    3.0|\n",
      "|  6|Sharable client-d...|    0|              226.74|                   59.99|   1|19-05-2016 14:30| 23|   59761.56|    2.0|\n",
      "|  7|Enhanced dedicate...|    0|              208.36|                   88.91|   0|28-01-2016 20:59| 33|   53852.85|    0.0|\n",
      "|  8|Reactive local ch...|    1|              131.76|                    66.0|   1|07-03-2016 01:40| 48|   24593.33|    1.0|\n",
      "|  9|Configurable cohe...|    0|              221.51|                   74.53|   1|18-04-2016 09:33| 30|    68862.0|    4.0|\n",
      "| 10|Mandatory homogen...|    0|              183.82|                   69.88|   1|11-07-2016 01:42| 20|   55642.32|   10.0|\n",
      "| 11|Centralized neutr...|    1|              122.02|                   47.64|   0|16-03-2016 20:19| 49|   45632.51|    9.0|\n",
      "| 12|Team-oriented gri...|    0|              230.87|                   83.07|   1|08-05-2016 08:10| 37|   62491.01|   11.0|\n",
      "| 13|Centralized conte...|    1|              113.12|                   69.57|   1|03-06-2016 01:14| 48|   51636.92|   13.0|\n",
      "| 14|Synergistic fresh...|    0|              214.23|                   79.52|   0|20-04-2016 21:49| 24|   51739.63|   44.0|\n",
      "| 15|Grass-roots coher...|    1|              143.56|                   42.95|   0|24-03-2016 09:31| 33|    30976.0|   49.0|\n",
      "| 16|Persistent demand...|    1|              140.64|                   63.45|   1|09-03-2016 03:41| 23|   52182.23|   54.0|\n",
      "| 17|Customizable mult...|    1|              129.41|                   55.39|   0|30-01-2016 19:20| 37|   23936.86|   48.0|\n",
      "| 18|Intuitive dynamic...|    0|              187.53|                   82.03|   0|02-05-2016 07:00| 41|   71511.08|   55.0|\n",
      "| 19|Grass-roots solut...|    1|              118.39|                    54.7|   1|13-02-2016 07:53| 36|   31087.54|   46.0|\n",
      "| 20|Advanced 24/7 pro...|    1|              135.51|                   74.58|   1|27-02-2016 04:43| 40|   23821.72|   45.0|\n",
      "+---+--------------------+-----+--------------------+------------------------+----+----------------+---+-----------+-------+\n",
      "only showing top 20 rows\n",
      "\n"
     ]
    }
   ],
   "source": [
    "AdTopic_Conversion = StringIndexer(inputCol='Ad_Topic',outputCol='adTopic').fit(adNew)\n",
    "adNew = AdTopic_Conversion.transform(adNew)\n",
    "adNew.show()"
   ]
  },
  {
   "cell_type": "code",
   "execution_count": 24,
   "metadata": {},
   "outputs": [],
   "source": [
    "adNew = adNew.drop('Ad_Topic')"
   ]
  },
  {
   "cell_type": "code",
   "execution_count": 25,
   "metadata": {},
   "outputs": [],
   "source": [
    "assembler = VectorAssembler(inputCols=['ID',\n",
    " 'Age',\n",
    " 'Daily Internet Usage',\n",
    " 'Daily Time Spent on Site',\n",
    " 'adTopic',                                      \n",
    " 'Male',\n",
    " 'Area Income'],outputCol='features')"
   ]
  },
  {
   "cell_type": "code",
   "execution_count": 26,
   "metadata": {},
   "outputs": [],
   "source": [
    "from pyspark.ml import Pipeline"
   ]
  },
  {
   "cell_type": "code",
   "execution_count": 29,
   "metadata": {},
   "outputs": [],
   "source": [
    "lr = LogisticRegression(featuresCol='features',labelCol='Click')"
   ]
  },
  {
   "cell_type": "code",
   "execution_count": 30,
   "metadata": {},
   "outputs": [],
   "source": [
    "pipeline = Pipeline(stages=[assembler,lr,AdTopic_Conversion])"
   ]
  },
  {
   "cell_type": "code",
   "execution_count": 31,
   "metadata": {},
   "outputs": [],
   "source": [
    "train_data, test_data = adNew.randomSplit([0.7,.3])"
   ]
  },
  {
   "cell_type": "code",
   "execution_count": 32,
   "metadata": {},
   "outputs": [
    {
     "name": "stdout",
     "output_type": "stream",
     "text": [
      "+---+-----+--------------------+------------------------+----+----------------+---+-----------+-------+\n",
      "| ID|Click|Daily Internet Usage|Daily Time Spent on Site|Male|       Timestamp|Age|Area Income|adTopic|\n",
      "+---+-----+--------------------+------------------------+----+----------------+---+-----------+-------+\n",
      "|  1|    0|              256.09|                   68.95|   0|27-03-2016 00:53| 35|    61833.9|    5.0|\n",
      "|  2|    0|              193.77|                   80.23|   1|04-04-2016 01:39| 31|   68441.85|    8.0|\n",
      "|  3|    0|               236.5|                   69.47|   0|13-03-2016 20:35| 26|   59785.94|    6.0|\n",
      "|  4|    0|              245.89|                   74.15|   1|10-01-2016 02:31| 29|   54806.18|    7.0|\n",
      "|  5|    0|              225.58|                   68.37|   0|03-06-2016 03:36| 35|   73889.99|    3.0|\n",
      "|  7|    0|              208.36|                   88.91|   0|28-01-2016 20:59| 33|   53852.85|    0.0|\n",
      "|  9|    0|              221.51|                   74.53|   1|18-04-2016 09:33| 30|    68862.0|    4.0|\n",
      "| 11|    1|              122.02|                   47.64|   0|16-03-2016 20:19| 49|   45632.51|    9.0|\n",
      "| 14|    0|              214.23|                   79.52|   0|20-04-2016 21:49| 24|   51739.63|   44.0|\n",
      "| 15|    1|              143.56|                   42.95|   0|24-03-2016 09:31| 33|    30976.0|   49.0|\n",
      "| 17|    1|              129.41|                   55.39|   0|30-01-2016 19:20| 37|   23936.86|   48.0|\n",
      "| 19|    1|              118.39|                    54.7|   1|13-02-2016 07:53| 36|   31087.54|   46.0|\n",
      "| 23|    1|              164.83|                   41.49|   0|20-05-2016 08:49| 52|    32635.7|   58.0|\n",
      "| 25|    1|              167.22|                   41.39|   0|13-06-2016 17:27| 41|   68962.32|   68.0|\n",
      "| 27|    1|              134.14|                   48.53|   1|08-02-2016 10:46| 28|   38067.08|   71.0|\n",
      "| 28|    1|              129.23|                   51.95|   0|19-07-2016 08:32| 52|   58295.82|   70.0|\n",
      "| 29|    1|               119.2|                    70.2|   0|14-04-2016 05:08| 34|   32708.94|   21.0|\n",
      "| 31|    0|              267.01|                   67.64|   1|02-07-2016 20:23| 35|   51473.28|   18.0|\n",
      "| 32|    0|              207.48|                   86.41|   1|01-03-2016 22:13| 28|   45593.93|   23.0|\n",
      "| 33|    1|              169.23|                   59.05|   1|15-07-2016 05:05| 57|   25583.29|   17.0|\n",
      "+---+-----+--------------------+------------------------+----+----------------+---+-----------+-------+\n",
      "only showing top 20 rows\n",
      "\n",
      "+---+-----+--------------------+------------------------+----+----------------+---+-----------+-------+\n",
      "| ID|Click|Daily Internet Usage|Daily Time Spent on Site|Male|       Timestamp|Age|Area Income|adTopic|\n",
      "+---+-----+--------------------+------------------------+----+----------------+---+-----------+-------+\n",
      "|  1|    0|              256.09|                   68.95|   0|27-03-2016 00:53| 35|    61833.9|    5.0|\n",
      "|  2|    0|              193.77|                   80.23|   1|04-04-2016 01:39| 31|   68441.85|    8.0|\n",
      "|  3|    0|               236.5|                   69.47|   0|13-03-2016 20:35| 26|   59785.94|    6.0|\n",
      "|  4|    0|              245.89|                   74.15|   1|10-01-2016 02:31| 29|   54806.18|    7.0|\n",
      "|  5|    0|              225.58|                   68.37|   0|03-06-2016 03:36| 35|   73889.99|    3.0|\n",
      "|  6|    0|              226.74|                   59.99|   1|19-05-2016 14:30| 23|   59761.56|    2.0|\n",
      "|  7|    0|              208.36|                   88.91|   0|28-01-2016 20:59| 33|   53852.85|    0.0|\n",
      "|  8|    1|              131.76|                    66.0|   1|07-03-2016 01:40| 48|   24593.33|    1.0|\n",
      "|  9|    0|              221.51|                   74.53|   1|18-04-2016 09:33| 30|    68862.0|    4.0|\n",
      "| 10|    0|              183.82|                   69.88|   1|11-07-2016 01:42| 20|   55642.32|   10.0|\n",
      "| 11|    1|              122.02|                   47.64|   0|16-03-2016 20:19| 49|   45632.51|    9.0|\n",
      "| 12|    0|              230.87|                   83.07|   1|08-05-2016 08:10| 37|   62491.01|   11.0|\n",
      "| 13|    1|              113.12|                   69.57|   1|03-06-2016 01:14| 48|   51636.92|   13.0|\n",
      "| 14|    0|              214.23|                   79.52|   0|20-04-2016 21:49| 24|   51739.63|   44.0|\n",
      "| 15|    1|              143.56|                   42.95|   0|24-03-2016 09:31| 33|    30976.0|   49.0|\n",
      "| 16|    1|              140.64|                   63.45|   1|09-03-2016 03:41| 23|   52182.23|   54.0|\n",
      "| 17|    1|              129.41|                   55.39|   0|30-01-2016 19:20| 37|   23936.86|   48.0|\n",
      "| 18|    0|              187.53|                   82.03|   0|02-05-2016 07:00| 41|   71511.08|   55.0|\n",
      "| 19|    1|              118.39|                    54.7|   1|13-02-2016 07:53| 36|   31087.54|   46.0|\n",
      "| 20|    1|              135.51|                   74.58|   1|27-02-2016 04:43| 40|   23821.72|   45.0|\n",
      "+---+-----+--------------------+------------------------+----+----------------+---+-----------+-------+\n",
      "only showing top 20 rows\n",
      "\n"
     ]
    }
   ],
   "source": [
    "train_data.show()\n",
    "adNew.show()"
   ]
  },
  {
   "cell_type": "code",
   "execution_count": 33,
   "metadata": {},
   "outputs": [
    {
     "name": "stdout",
     "output_type": "stream",
     "text": [
      "+---+-----+--------------------+------------------------+----+----------------+---+-----------+-------+\n",
      "| ID|Click|Daily Internet Usage|Daily Time Spent on Site|Male|       Timestamp|Age|Area Income|adTopic|\n",
      "+---+-----+--------------------+------------------------+----+----------------+---+-----------+-------+\n",
      "|  6|    0|              226.74|                   59.99|   1|19-05-2016 14:30| 23|   59761.56|    2.0|\n",
      "|  8|    1|              131.76|                    66.0|   1|07-03-2016 01:40| 48|   24593.33|    1.0|\n",
      "| 10|    0|              183.82|                   69.88|   1|11-07-2016 01:42| 20|   55642.32|   10.0|\n",
      "| 12|    0|              230.87|                   83.07|   1|08-05-2016 08:10| 37|   62491.01|   11.0|\n",
      "| 13|    1|              113.12|                   69.57|   1|03-06-2016 01:14| 48|   51636.92|   13.0|\n",
      "| 16|    1|              140.64|                   63.45|   1|09-03-2016 03:41| 23|   52182.23|   54.0|\n",
      "| 18|    0|              187.53|                   82.03|   0|02-05-2016 07:00| 41|   71511.08|   55.0|\n",
      "| 20|    1|              135.51|                   74.58|   1|27-02-2016 04:43| 40|   23821.72|   45.0|\n",
      "| 21|    0|              224.44|                   77.22|   1|05-01-2016 07:52| 30|   64802.33|   42.0|\n",
      "| 22|    0|              226.54|                   84.59|   1|18-03-2016 13:22| 35|   60015.57|   41.0|\n",
      "| 24|    0|              209.93|                   87.29|   1|23-03-2016 09:43| 36|   61628.72|   72.0|\n",
      "| 26|    0|              204.79|                   78.74|   1|27-05-2016 15:25| 28|    64828.0|   69.0|\n",
      "| 30|    0|              209.82|                   76.02|   0|27-01-2016 12:38| 22|   46179.97|   22.0|\n",
      "| 35|    1|              133.81|                   57.64|   1|15-03-2016 03:12| 57|   45580.92|   24.0|\n",
      "| 36|    0|              201.58|                   84.37|   0|12-04-2016 03:26| 30|    61389.5|   14.0|\n",
      "| 37|    1|              125.45|                   62.26|   1|07-04-2016 15:18| 53|   56770.79|   16.0|\n",
      "| 41|    0|              202.61|                   84.98|   0|27-04-2016 09:27| 29|   57691.95|   12.0|\n",
      "| 43|    0|              198.11|                   82.52|   1|08-05-2016 15:38| 32|   66572.39|   29.0|\n",
      "| 48|    0|              198.72|                    85.4|   0|08-06-2016 18:54| 43|   67058.72|   31.0|\n",
      "| 50|    1|              119.93|                   48.01|   0|25-04-2016 11:01| 46|    54286.1|   37.0|\n",
      "+---+-----+--------------------+------------------------+----+----------------+---+-----------+-------+\n",
      "only showing top 20 rows\n",
      "\n"
     ]
    }
   ],
   "source": [
    "fit_lr = pipeline.fit(train_data)\n",
    "test_data.show()"
   ]
  },
  {
   "cell_type": "code",
   "execution_count": 34,
   "metadata": {},
   "outputs": [],
   "source": [
    "results_lr = fit_lr.transform(test_data)"
   ]
  },
  {
   "cell_type": "code",
   "execution_count": 37,
   "metadata": {},
   "outputs": [],
   "source": [
    "from pyspark.ml.evaluation import BinaryClassificationEvaluator\n",
    "\n",
    "prediction = BinaryClassificationEvaluator(rawPredictionCol='prediction',\n",
    "                                       labelCol='Click')"
   ]
  },
  {
   "cell_type": "code",
   "execution_count": 40,
   "metadata": {},
   "outputs": [
    {
     "name": "stdout",
     "output_type": "stream",
     "text": [
      "+-----+----------+\n",
      "|Click|prediction|\n",
      "+-----+----------+\n",
      "|    0|       0.0|\n",
      "|    1|       1.0|\n",
      "|    0|       0.0|\n",
      "|    0|       0.0|\n",
      "|    1|       1.0|\n",
      "|    1|       1.0|\n",
      "|    0|       0.0|\n",
      "|    1|       1.0|\n",
      "|    0|       0.0|\n",
      "|    0|       0.0|\n",
      "|    0|       0.0|\n",
      "|    0|       0.0|\n",
      "|    0|       0.0|\n",
      "|    1|       1.0|\n",
      "|    0|       0.0|\n",
      "|    1|       1.0|\n",
      "|    0|       0.0|\n",
      "|    0|       0.0|\n",
      "|    0|       0.0|\n",
      "|    1|       1.0|\n",
      "+-----+----------+\n",
      "only showing top 20 rows\n",
      "\n"
     ]
    }
   ],
   "source": [
    "results_lr.select('Click','prediction').show()"
   ]
  },
  {
   "cell_type": "code",
   "execution_count": 41,
   "metadata": {},
   "outputs": [
    {
     "data": {
      "text/plain": [
       "0.956178861788618"
      ]
     },
     "execution_count": 41,
     "metadata": {},
     "output_type": "execute_result"
    }
   ],
   "source": [
    "accuracyLR = prediction.evaluate(results_lr)\n",
    "\n",
    "accuracyLR"
   ]
  },
  {
   "cell_type": "code",
   "execution_count": null,
   "metadata": {},
   "outputs": [],
   "source": [
    "\n"
   ]
  }
 ],
 "metadata": {
  "kernelspec": {
   "display_name": "Python 3",
   "language": "python",
   "name": "python3"
  },
  "language_info": {
   "codemirror_mode": {
    "name": "ipython",
    "version": 3
   },
   "file_extension": ".py",
   "mimetype": "text/x-python",
   "name": "python",
   "nbconvert_exporter": "python",
   "pygments_lexer": "ipython3",
   "version": "3.5.2"
  }
 },
 "nbformat": 4,
 "nbformat_minor": 2
}
